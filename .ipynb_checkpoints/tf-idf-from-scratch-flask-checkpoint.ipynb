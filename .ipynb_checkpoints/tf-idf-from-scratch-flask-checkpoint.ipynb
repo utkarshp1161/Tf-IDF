{
 "cells": [
  {
   "cell_type": "code",
   "execution_count": null,
   "metadata": {},
   "outputs": [],
   "source": [
    "#In information retrieval, tf–idf, TF*IDF, or TFIDF, short for term frequency–inverse document frequency, is a numerical statistic that is intended to reflect how important a word is to a document in a collection or corpus."
   ]
  },
  {
   "cell_type": "code",
   "execution_count": 31,
   "metadata": {},
   "outputs": [],
   "source": [
    "docA = \"The cat sat on my face\"\n",
    "docB = \"The dog sat on my bed\""
   ]
  },
  {
   "cell_type": "code",
   "execution_count": 32,
   "metadata": {},
   "outputs": [],
   "source": [
    "docA = docA.split(\" \")\n",
    "docB = docB.split(\" \")\n"
   ]
  },
  {
   "cell_type": "code",
   "execution_count": 33,
   "metadata": {},
   "outputs": [],
   "source": [
    "test_string = \"hello cat face\""
   ]
  },
  {
   "cell_type": "code",
   "execution_count": 34,
   "metadata": {},
   "outputs": [],
   "source": [
    "#given multiple documents and a sentence, we can find tf of each word in the sentence\n",
    "# frequency of word in doc/ no. of words in doc\n",
    "def tf(doclist,test_string):\n",
    "    set1 = set(test_string.split(\" \")) \n",
    "    tf_list = []\n",
    "    for i in range(len(doclist)):\n",
    "        tf_dict = dict.fromkeys(set1, 0)\n",
    "        n_words_doc = len(doclist[i])\n",
    "        for word in doclist[i]:\n",
    "            if word in set1:\n",
    "                tf_dict[word] += 1/n_words_doc\n",
    "                \n",
    "        tf_list.append(tf_dict)\n",
    "        \n",
    "        \n",
    "    return(tf_list)\n",
    "        \n",
    "        \n",
    "                \n",
    "            \n",
    "        "
   ]
  },
  {
   "cell_type": "code",
   "execution_count": 35,
   "metadata": {},
   "outputs": [],
   "source": [
    "list_tf = tf([docA,docB],test_string)"
   ]
  },
  {
   "cell_type": "code",
   "execution_count": 36,
   "metadata": {},
   "outputs": [
    {
     "data": {
      "text/plain": [
       "[{'face': 0.16666666666666666, 'hello': 0, 'cat': 0.16666666666666666},\n",
       " {'face': 0, 'hello': 0, 'cat': 0}]"
      ]
     },
     "execution_count": 36,
     "metadata": {},
     "output_type": "execute_result"
    }
   ],
   "source": [
    "list_tf"
   ]
  },
  {
   "cell_type": "code",
   "execution_count": 37,
   "metadata": {},
   "outputs": [],
   "source": [
    "# given sentence and all documents....one number corresponding to each word wrt entire document set\n",
    "import math\n",
    "def idf(doclist,test_string):\n",
    "    set1 = set(test_string.split(\" \"))\n",
    "    N_docs = len(doclist)\n",
    "    idf_dict = dict.fromkeys(set1, 0)\n",
    "    for word in set1:\n",
    "        c = 0\n",
    "        for i in range(N_docs):\n",
    "            set2 = set(doclist[i])\n",
    "            if word in set2:\n",
    "                c+=1\n",
    "        idf_dict[word] = math.log10(N_docs/(1+c))  # 1 is here to avoid division by zero\n",
    "    \n",
    "    return idf_dict\n",
    "        \n",
    "        \n",
    "        \n",
    "    "
   ]
  },
  {
   "cell_type": "code",
   "execution_count": 38,
   "metadata": {},
   "outputs": [],
   "source": [
    "dict_idf = idf([docA,docB],test_string)"
   ]
  },
  {
   "cell_type": "code",
   "execution_count": 39,
   "metadata": {},
   "outputs": [
    {
     "data": {
      "text/plain": [
       "{'face': 0.0, 'hello': 0.3010299956639812, 'cat': 0.0}"
      ]
     },
     "execution_count": 39,
     "metadata": {},
     "output_type": "execute_result"
    }
   ],
   "source": [
    "dict_idf"
   ]
  },
  {
   "cell_type": "code",
   "execution_count": 40,
   "metadata": {},
   "outputs": [],
   "source": [
    "tf_idf = []\n",
    "for i in list_tf:\n",
    "    for word in dict_idf:\n",
    "        i[word] = i[word]*dict_idf[word]\n",
    "    tf_idf.append(i)"
   ]
  },
  {
   "cell_type": "code",
   "execution_count": 41,
   "metadata": {},
   "outputs": [
    {
     "data": {
      "text/plain": [
       "[{'face': 0.0, 'hello': 0.0, 'cat': 0.0},\n",
       " {'face': 0.0, 'hello': 0.0, 'cat': 0.0}]"
      ]
     },
     "execution_count": 41,
     "metadata": {},
     "output_type": "execute_result"
    }
   ],
   "source": [
    "tf_idf"
   ]
  },
  {
   "cell_type": "code",
   "execution_count": null,
   "metadata": {},
   "outputs": [],
   "source": []
  }
 ],
 "metadata": {
  "kernelspec": {
   "display_name": "Python 3",
   "language": "python",
   "name": "python3"
  },
  "language_info": {
   "codemirror_mode": {
    "name": "ipython",
    "version": 3
   },
   "file_extension": ".py",
   "mimetype": "text/x-python",
   "name": "python",
   "nbconvert_exporter": "python",
   "pygments_lexer": "ipython3",
   "version": "3.8.3"
  }
 },
 "nbformat": 4,
 "nbformat_minor": 4
}
