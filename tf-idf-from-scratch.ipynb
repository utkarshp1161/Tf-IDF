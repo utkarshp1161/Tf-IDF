{
 "cells": [
  {
   "cell_type": "code",
   "execution_count": 1,
   "metadata": {},
   "outputs": [],
   "source": [
    "#In information retrieval, tf–idf, TF*IDF, or TFIDF, short for term frequency–inverse document frequency, is a numerical statistic that is intended to reflect how important a word is to a document in a collection or corpus."
   ]
  },
  {
   "cell_type": "code",
   "execution_count": 2,
   "metadata": {},
   "outputs": [],
   "source": [
    "docA = \"This is document 1 in form of string\"\n",
    "docB = \"This is document 2 in form of string\""
   ]
  },
  {
   "cell_type": "code",
   "execution_count": 3,
   "metadata": {},
   "outputs": [],
   "source": [
    "docA = docA.split(\" \")\n",
    "docB = docB.split(\" \")\n"
   ]
  },
  {
   "cell_type": "code",
   "execution_count": 4,
   "metadata": {},
   "outputs": [],
   "source": [
    "test_string = \"document can be converted to string\""
   ]
  },
  {
   "cell_type": "code",
   "execution_count": 5,
   "metadata": {},
   "outputs": [],
   "source": [
    "#given multiple documents and a sentence, we can find tf of each word in the sentence\n",
    "# frequency of word in doc/ no. of words in doc\n",
    "def tf(doclist,test_string):\n",
    "    set1 = set(test_string.split(\" \")) \n",
    "    tf_list = []\n",
    "    for i in range(len(doclist)):\n",
    "        tf_dict = dict.fromkeys(set1, 0)\n",
    "        n_words_doc = len(doclist[i])\n",
    "        for word in doclist[i]:\n",
    "            if word in set1:\n",
    "                tf_dict[word] += 1/n_words_doc\n",
    "                \n",
    "        tf_list.append(tf_dict)\n",
    "        \n",
    "        \n",
    "    return(tf_list)\n",
    "        \n",
    "        \n",
    "                \n",
    "            \n",
    "        "
   ]
  },
  {
   "cell_type": "code",
   "execution_count": 6,
   "metadata": {},
   "outputs": [],
   "source": [
    "list_tf = tf([docA,docB],test_string)"
   ]
  },
  {
   "cell_type": "code",
   "execution_count": 7,
   "metadata": {},
   "outputs": [
    {
     "data": {
      "text/plain": [
       "[{'to': 0,\n",
       "  'can': 0,\n",
       "  'converted': 0,\n",
       "  'be': 0,\n",
       "  'document': 0.125,\n",
       "  'string': 0.125},\n",
       " {'to': 0,\n",
       "  'can': 0,\n",
       "  'converted': 0,\n",
       "  'be': 0,\n",
       "  'document': 0.125,\n",
       "  'string': 0.125}]"
      ]
     },
     "execution_count": 7,
     "metadata": {},
     "output_type": "execute_result"
    }
   ],
   "source": [
    "list_tf"
   ]
  },
  {
   "cell_type": "code",
   "execution_count": 8,
   "metadata": {},
   "outputs": [],
   "source": [
    "# given sentence and all documents....one number corresponding to each word wrt entire document set\n",
    "import math\n",
    "def idf(doclist,test_string):\n",
    "    set1 = set(test_string.split(\" \"))\n",
    "    N_docs = len(doclist)\n",
    "    idf_dict = dict.fromkeys(set1, 0)\n",
    "    for word in set1:\n",
    "        c = 0\n",
    "        for i in range(N_docs):\n",
    "            set2 = set(doclist[i])\n",
    "            if word in set2:\n",
    "                c+=1\n",
    "        idf_dict[word] = math.log10(N_docs/(1+c))  # 1 is here to avoid division by zero\n",
    "    \n",
    "    return idf_dict\n",
    "        \n",
    "        \n",
    "        \n",
    "    "
   ]
  },
  {
   "cell_type": "code",
   "execution_count": 9,
   "metadata": {},
   "outputs": [],
   "source": [
    "dict_idf = idf([docA,docB],test_string)"
   ]
  },
  {
   "cell_type": "code",
   "execution_count": 10,
   "metadata": {},
   "outputs": [
    {
     "data": {
      "text/plain": [
       "{'to': 0.3010299956639812,\n",
       " 'can': 0.3010299956639812,\n",
       " 'converted': 0.3010299956639812,\n",
       " 'be': 0.3010299956639812,\n",
       " 'document': -0.17609125905568127,\n",
       " 'string': -0.17609125905568127}"
      ]
     },
     "execution_count": 10,
     "metadata": {},
     "output_type": "execute_result"
    }
   ],
   "source": [
    "dict_idf"
   ]
  },
  {
   "cell_type": "code",
   "execution_count": 11,
   "metadata": {},
   "outputs": [],
   "source": [
    "tf_idf = []\n",
    "for i in list_tf:\n",
    "    for word in dict_idf:\n",
    "        i[word] = i[word]*dict_idf[word]\n",
    "    tf_idf.append(i)"
   ]
  },
  {
   "cell_type": "code",
   "execution_count": 12,
   "metadata": {},
   "outputs": [
    {
     "data": {
      "text/plain": [
       "[{'to': 0.0,\n",
       "  'can': 0.0,\n",
       "  'converted': 0.0,\n",
       "  'be': 0.0,\n",
       "  'document': -0.022011407381960158,\n",
       "  'string': -0.022011407381960158},\n",
       " {'to': 0.0,\n",
       "  'can': 0.0,\n",
       "  'converted': 0.0,\n",
       "  'be': 0.0,\n",
       "  'document': -0.022011407381960158,\n",
       "  'string': -0.022011407381960158}]"
      ]
     },
     "execution_count": 12,
     "metadata": {},
     "output_type": "execute_result"
    }
   ],
   "source": [
    "tf_idf"
   ]
  },
  {
   "cell_type": "code",
   "execution_count": null,
   "metadata": {},
   "outputs": [],
   "source": []
  },
  {
   "cell_type": "code",
   "execution_count": null,
   "metadata": {},
   "outputs": [],
   "source": []
  }
 ],
 "metadata": {
  "kernelspec": {
   "display_name": "Python 3",
   "language": "python",
   "name": "python3"
  },
  "language_info": {
   "codemirror_mode": {
    "name": "ipython",
    "version": 3
   },
   "file_extension": ".py",
   "mimetype": "text/x-python",
   "name": "python",
   "nbconvert_exporter": "python",
   "pygments_lexer": "ipython3",
   "version": "3.8.3"
  }
 },
 "nbformat": 4,
 "nbformat_minor": 4
}
